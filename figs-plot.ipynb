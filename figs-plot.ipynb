{
 "cells": [
  {
   "cell_type": "markdown",
   "id": "a453a889",
   "metadata": {},
   "source": [
    "figE8 \n",
    "\n",
    "spatial relationship between cell cluster and ptcs"
   ]
  },
  {
   "cell_type": "code",
   "execution_count": null,
   "id": "c4c1567b",
   "metadata": {
    "vscode": {
     "languageId": "r"
    }
   },
   "outputs": [],
   "source": [
    "import sys\n",
    "import numpy as np\n",
    "import pandas as pd\n",
    "import matplotlib as mpl\n",
    "\n",
    "import scanpy as sc\n",
    "import squidpy as sq\n",
    "\n",
    "time = sys.argv[1]\n",
    "\n",
    "# my color\n",
    "my_color = [\"#93d0fc\", \"#2aaae1\", \"#3f5246\", \"#ad3074\", \"#E7B10A\", \n",
    "\"#91a3b0\", \"#d58282\", \"#418557\", \"#6dc831\", \"#eacd01\",\n",
    "\"#ff9f22\", \"#af5b2b\", \"#2e5073\", \"#E6D2AA\", \"#42032C\",\n",
    "\"#752f9a\", \"#721c28\", \"black\"]\n",
    "my_palette = mpl.colors.ListedColormap(my_color)\n",
    "\n",
    "fpath = \"final_used_data.h5ad\"\n",
    "adata = sc.read(fpath)\n",
    "\n",
    "main_cluster = list(range(17))\n",
    "adata = adata[adata.obs[\"seurat_clusters\"].isin(main_cluster) & (adata.obs[\"hours\"]==time)]\n",
    "\n",
    "pi_cells = pd.read_csv(\"/public/home/daijichen/01_workdir/02_liyuying_2/00_fig4/fig_pi/01.pi_potato.ps_time_related/ps_time.pi_counts.tab\",\n",
    "                      header=0, index_col=None, sep=\"\\t\")\n",
    "pi_cells = set(pi_cells['cellid'])\n",
    "adata.obs[\"seurat_clusters_pi\"] = adata.obs.apply(lambda x: str(x['seurat_clusters']) if x['cellid'] not in pi_cells else 'pi', axis = 1)\n",
    "adata.obs['seurat_clusters_pi'] = adata.obs['seurat_clusters_pi'].astype('category') # to str\n",
    "adata.obs['seurat_clusters'] = adata.obs['seurat_clusters'].astype('category') # to str\n",
    "\n",
    "adata.obsm[\"spatial\"] = np.array(adata.obs[['x', 'y']])\n",
    "# delaunay graph\n",
    "sq.gr.spatial_neighbors(adata, coord_type=\"generic\", delaunay = True)\n",
    "sq.gr.nhood_enrichment(adata, cluster_key=\"seurat_clusters\")\n",
    "sq.pl.nhood_enrichment(adata, cluster_key=\"seurat_clusters\", method=\"ward\", cmap = \"coolwarm\", save=\"./\" + time + \"_nhood_enrich.svg\")"
   ]
  },
  {
   "cell_type": "code",
   "execution_count": null,
   "id": "c8b05e33",
   "metadata": {
    "vscode": {
     "languageId": "r"
    }
   },
   "outputs": [],
   "source": [
    "library(ggplot2)\n",
    "library(Seurat)\n",
    "library(pheatmap)\n",
    "library(viridis)\n",
    "set.seed(12345)\n",
    "library(circlize)\n",
    "library(tidyverse)\n",
    "library(ComplexHeatmap)\n",
    "#library(monocle)\n",
    "set.seed(12345)\n",
    "\n",
    "pi_info <- read.table(\"inf_pi.tab\", header = T, sep=\"\\t\")\n",
    "pi_neighbor <- read.table(\"pi.neighbor.giotto.tab\", header=T, sep=\"\\t\")\n",
    "pi_cell <- pi_info[pi_info$nfeature_10.12==\"Y\",][[\"cellid\"]]\n",
    "pi_neighbor_cell <- pi_neighbor[pi_neighbor$nb_cells!=\"others\",][[\"cell_ID\"]]\n",
    "pi_neighbor_cell <- setdiff(pi_neighbor_cell, pi_cell)\n",
    "\n",
    "potato.merged <- readRDS(\"final_used_data.RDS\")\n",
    "potato.merged$pi_nb <- ifelse(potato.merged$cellid %in% pi_cell, \"pi\", \"N\")\n",
    "potato.merged$pi_nb <- ifelse(potato.merged$cellid %in% pi_neighbor_cell, \"pi_nb\", potato.merged$pi_nb)\n",
    "potato.merged$pi_nb <- ifelse(potato.merged$inf_stat==\"Noninf\", \"Noninf\", potato.merged$pi_nb)\n",
    "potato.merged$pi_nb <- ifelse(potato.merged$inf_stat==\"CK\", \"CK\", potato.merged$pi_nb)\n",
    "\n",
    "clt_exp <- AverageExpression(potato.merged, group.by=\"seurat_clusters\", return.seurat=TRUE)\n",
    "pi_exp <- AverageExpression(potato.merged, group.by=\"pi_nb\", return.seurat=TRUE)\n",
    "\n",
    "exp_mat_clt <- clt_exp@assays$Spatial@data\n",
    "exp_mat_pi <- pi_exp@assays$Spatial@data\n",
    "\n",
    "hvg <- VariableFeatures(potato.merged, nfeature=2000)\n",
    "exp_mat_clt <- exp_mat_clt[hvg, ]\n",
    "exp_mat_pi <- exp_mat_pi[hvg, ]\n",
    "merge_mat <- cbind(exp_mat_clt, exp_mat_pi)[, c(as.character(0:16), \"pi\")]\n",
    "corr_mat <- cor(merge_mat)\n",
    "\n",
    "hm <- Heatmap(corr_mat,\n",
    "        col = c(\"#440154FF\", \"#440154FF\", \"#440154FF\", \"#440154FF\", \"#440154FF\", \"#440154FF\", viridis(25)),\n",
    "        na_col = \"grey\",\n",
    "        cluster_rows = T,\n",
    "        cluster_columns = T,\n",
    "        #row_split = sub_exp_df$stat,\n",
    "        column_title = NULL,\n",
    "        #row_labels = rownames(sub_exp_df),\n",
    "        show_column_names = T,\n",
    "        show_row_names=T,\n",
    "        width = unit(0.5, \"snpc\"), height = unit(0.5, \"snpc\"),\n",
    "\n",
    "        )\n",
    "\n",
    "pdf(paste0(\"06.exp_sim_pi_clt.hmap.pdf\"),width=10,height=10)\n",
    "draw(hm)\n",
    "dev.off()"
   ]
  }
 ],
 "metadata": {
  "kernelspec": {
   "display_name": "R",
   "language": "R",
   "name": "ir"
  },
  "language_info": {
   "codemirror_mode": "r",
   "file_extension": ".r",
   "mimetype": "text/x-r-source",
   "name": "R",
   "pygments_lexer": "r",
   "version": "4.3.3"
  }
 },
 "nbformat": 4,
 "nbformat_minor": 5
}
